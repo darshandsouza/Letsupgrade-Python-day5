{
 "cells": [
  {
   "cell_type": "markdown",
   "metadata": {},
   "source": [
    "# Question 1"
   ]
  },
  {
   "cell_type": "code",
   "execution_count": 19,
   "metadata": {},
   "outputs": [
    {
     "name": "stdout",
     "output_type": "stream",
     "text": [
      "Its matched\n"
     ]
    }
   ],
   "source": [
    "ls1 = [1,5,6,4,1,2,3,5]\n",
    "#ls1 = [1,5,6,5,1,2,3,6]\n",
    "ls2 = [1,1,5]\n",
    "\n",
    "def s(l,l2):\n",
    "    for i in l:\n",
    "        for j in l2:\n",
    "            if (len(l2) >= 0 and j == i):\n",
    "                l2.pop(0)\n",
    "            else:\n",
    "                break\n",
    "s(ls1,ls2)\n",
    "\n",
    "if (len(ls2) == 0):\n",
    "    print(\"Its matched\")\n",
    "else:\n",
    "    print(\"gone\")\n"
   ]
  },
  {
   "cell_type": "markdown",
   "metadata": {},
   "source": [
    "# Question 2"
   ]
  },
  {
   "cell_type": "code",
   "execution_count": 18,
   "metadata": {},
   "outputs": [
    {
     "name": "stdout",
     "output_type": "stream",
     "text": [
      "[1, 2, 3, 5, 7, 9, 11, 13, 15, 17, 19]\n"
     ]
    }
   ],
   "source": [
    "def prime(s):\n",
    "    for j in range(2,s): \n",
    "        if(s % j==0 ): \n",
    "            return False\n",
    "        else: \n",
    "            return True \n",
    "   \n",
    "    else:\n",
    "        return 1,2\n",
    "    \n",
    "d = filter(prime,range(1,20))\n",
    "print(list(d))\n"
   ]
  },
  {
   "cell_type": "markdown",
   "metadata": {},
   "source": [
    "# Question"
   ]
  },
  {
   "cell_type": "code",
   "execution_count": 43,
   "metadata": {},
   "outputs": [
    {
     "name": "stdout",
     "output_type": "stream",
     "text": [
      "['Hello, This Is Darshan,From Karwar']\n"
     ]
    }
   ],
   "source": [
    "from string import capwords\n",
    "\n",
    "ds = [\"hello, this is darshan,from karwar\"]\n",
    "\n",
    "capit = map(lambda d : d.title() , ds)\n",
    "print(list(capit))\n"
   ]
  },
  {
   "cell_type": "code",
   "execution_count": null,
   "metadata": {},
   "outputs": [],
   "source": []
  }
 ],
 "metadata": {
  "kernelspec": {
   "display_name": "Python 3",
   "language": "python",
   "name": "python3"
  },
  "language_info": {
   "codemirror_mode": {
    "name": "ipython",
    "version": 3
   },
   "file_extension": ".py",
   "mimetype": "text/x-python",
   "name": "python",
   "nbconvert_exporter": "python",
   "pygments_lexer": "ipython3",
   "version": "3.8.3"
  }
 },
 "nbformat": 4,
 "nbformat_minor": 4
}
